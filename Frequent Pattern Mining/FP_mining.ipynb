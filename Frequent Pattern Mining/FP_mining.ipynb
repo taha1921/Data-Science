{
  "nbformat": 4,
  "nbformat_minor": 0,
  "metadata": {
    "kernelspec": {
      "display_name": "Python 3",
      "language": "python",
      "name": "python3"
    },
    "language_info": {
      "codemirror_mode": {
        "name": "ipython",
        "version": 3
      },
      "file_extension": ".py",
      "mimetype": "text/x-python",
      "name": "python",
      "nbconvert_exporter": "python",
      "pygments_lexer": "ipython3",
      "version": "3.7.4"
    },
    "colab": {
      "name": "20100040_taha_ahmed_assignment2_q3.ipynb",
      "provenance": [],
      "collapsed_sections": [],
      "toc_visible": true
    }
  },
  "cells": [
    {
      "cell_type": "markdown",
      "metadata": {
        "id": "A-jkoaap_aFP",
        "colab_type": "text"
      },
      "source": [
        "\n",
        "\n",
        "1. In this part, you are required to implement Apriori and FPgrowth algorithms on the data provided as \"data_apriori_fpgrowth/data.csv\". The dataset is of online directory of certified businesses.\n",
        "\n",
        "2. We have loaded the dataset for you.\n",
        "\n",
        "3. You are free to use any library or implement your own algorithms.\n",
        "\n",
        "\n",
        "**Use minimum support : 0.1**"
      ]
    },
    {
      "cell_type": "code",
      "metadata": {
        "id": "I7buJkRtWSoe",
        "colab_type": "code",
        "colab": {}
      },
      "source": [
        "!pip install mlxtend --upgrade --no-deps"
      ],
      "execution_count": 0,
      "outputs": []
    },
    {
      "cell_type": "code",
      "metadata": {
        "id": "kenyzinK_aFV",
        "colab_type": "code",
        "colab": {}
      },
      "source": [
        "import pandas as pd\n",
        "import numpy as np\n",
        "from mlxtend.frequent_patterns import apriori, fpgrowth\n",
        "from mlxtend.preprocessing import TransactionEncoder"
      ],
      "execution_count": 0,
      "outputs": []
    },
    {
      "cell_type": "code",
      "metadata": {
        "id": "2Nbaqh-K2UB3",
        "colab_type": "code",
        "colab": {}
      },
      "source": [
        "from google.colab import drive\n",
        "drive.mount('/content/drive')"
      ],
      "execution_count": 0,
      "outputs": []
    },
    {
      "cell_type": "code",
      "metadata": {
        "id": "_DhtHu5n2Uav",
        "colab_type": "code",
        "colab": {}
      },
      "source": [
        "!unzip -uq \"/content/drive/My Drive/DataMining_hw2/hw2.zip\" -d \"./\""
      ],
      "execution_count": 0,
      "outputs": []
    },
    {
      "cell_type": "code",
      "metadata": {
        "id": "wxJn2KOb_aFc",
        "colab_type": "code",
        "colab": {}
      },
      "source": [
        "data = np.load(\"data_apriori_fpgrowth/data.npy\", allow_pickle = True)"
      ],
      "execution_count": 0,
      "outputs": []
    },
    {
      "cell_type": "code",
      "metadata": {
        "id": "GW_JvvneFWQq",
        "colab_type": "code",
        "colab": {}
      },
      "source": [
        "minsup=0.1"
      ],
      "execution_count": 0,
      "outputs": []
    },
    {
      "cell_type": "code",
      "metadata": {
        "id": "edVy_3_mXvWV",
        "colab_type": "code",
        "colab": {}
      },
      "source": [
        "# preprocessing\n",
        "te = TransactionEncoder()\n",
        "te_ary = te.fit(data).transform(data)\n",
        "df = pd.DataFrame(te_ary, columns=te.columns_)"
      ],
      "execution_count": 0,
      "outputs": []
    },
    {
      "cell_type": "markdown",
      "metadata": {
        "id": "hUHI4iDT_aFh",
        "colab_type": "text"
      },
      "source": [
        "# To Do\n",
        "1. Run Apriori Algorithm on the dataset using minimum support 0.1.\n",
        " 1. Note the run time of the algorithm to find frequent item sets.\n",
        " 1. Print all the frequent item sets found by apriori.\n",
        " 1. Print all frequent item sets of length $2$ or higher with support of $0.2$ or higher. \n",
        "1. Run FPGrowth Algorithm on the dataset using minimum support 0.1.\n",
        " 1. Note the run time of the FPGrowth algorithm to find frequent item sets.\n",
        " 1. Print all frequent item sets found by FPGrowth.\n",
        " 1. Print all frequent item sets of length $2$ or higher with support of $0.2$ or higher.\n",
        "1. Answer the following question:\n",
        " 1. Both algorithms find and return exactly the same frequent itemsets (given same parameters of support and itemset length). What difference do you note in both of the algorithms?\n",
        " 1. There were more than $1000$ transactions. Why there are too few itemsets returned by the algorithms?\n",
        " "
      ]
    },
    {
      "cell_type": "markdown",
      "metadata": {
        "id": "G21ELUNq_aFi",
        "colab_type": "text"
      },
      "source": [
        "# Apriori [10 marks]"
      ]
    },
    {
      "cell_type": "code",
      "metadata": {
        "id": "FbfzBxi9_aFl",
        "colab_type": "code",
        "outputId": "99ce8a70-7b96-43df-f701-008b9f03ea8f",
        "colab": {
          "base_uri": "https://localhost:8080/",
          "height": 34
        }
      },
      "source": [
        "# Apriori\n",
        "%timeit -n 100 -r 10 frequent_itemsets = apriori(df, min_support=minsup, use_colnames=True)"
      ],
      "execution_count": 0,
      "outputs": [
        {
          "output_type": "stream",
          "text": [
            "100 loops, best of 10: 9.27 ms per loop\n"
          ],
          "name": "stdout"
        }
      ]
    },
    {
      "cell_type": "code",
      "metadata": {
        "id": "HCg-C-VD_aFr",
        "colab_type": "code",
        "outputId": "b9d1fa1a-cb9b-450b-e302-064a28295583",
        "colab": {
          "base_uri": "https://localhost:8080/",
          "height": 607
        }
      },
      "source": [
        "# All Frequent Itemsets\n",
        "frequent_itemsets"
      ],
      "execution_count": 0,
      "outputs": [
        {
          "output_type": "execute_result",
          "data": {
            "text/html": [
              "<div>\n",
              "<style scoped>\n",
              "    .dataframe tbody tr th:only-of-type {\n",
              "        vertical-align: middle;\n",
              "    }\n",
              "\n",
              "    .dataframe tbody tr th {\n",
              "        vertical-align: top;\n",
              "    }\n",
              "\n",
              "    .dataframe thead th {\n",
              "        text-align: right;\n",
              "    }\n",
              "</style>\n",
              "<table border=\"1\" class=\"dataframe\">\n",
              "  <thead>\n",
              "    <tr style=\"text-align: right;\">\n",
              "      <th></th>\n",
              "      <th>support</th>\n",
              "      <th>itemsets</th>\n",
              "    </tr>\n",
              "  </thead>\n",
              "  <tbody>\n",
              "    <tr>\n",
              "      <th>0</th>\n",
              "      <td>0.202113</td>\n",
              "      <td>(ASIAN)</td>\n",
              "    </tr>\n",
              "    <tr>\n",
              "      <th>1</th>\n",
              "      <td>0.300704</td>\n",
              "      <td>(BLACK)</td>\n",
              "    </tr>\n",
              "    <tr>\n",
              "      <th>2</th>\n",
              "      <td>0.152113</td>\n",
              "      <td>(Brooklyn)</td>\n",
              "    </tr>\n",
              "    <tr>\n",
              "      <th>3</th>\n",
              "      <td>0.164085</td>\n",
              "      <td>(HISPANIC)</td>\n",
              "    </tr>\n",
              "    <tr>\n",
              "      <th>4</th>\n",
              "      <td>0.671127</td>\n",
              "      <td>(MBE)</td>\n",
              "    </tr>\n",
              "    <tr>\n",
              "      <th>5</th>\n",
              "      <td>0.300000</td>\n",
              "      <td>(NON-MINORITY)</td>\n",
              "    </tr>\n",
              "    <tr>\n",
              "      <th>6</th>\n",
              "      <td>0.295070</td>\n",
              "      <td>(New York)</td>\n",
              "    </tr>\n",
              "    <tr>\n",
              "      <th>7</th>\n",
              "      <td>0.477465</td>\n",
              "      <td>(WBE)</td>\n",
              "    </tr>\n",
              "    <tr>\n",
              "      <th>8</th>\n",
              "      <td>0.200000</td>\n",
              "      <td>(ASIAN, MBE)</td>\n",
              "    </tr>\n",
              "    <tr>\n",
              "      <th>9</th>\n",
              "      <td>0.300704</td>\n",
              "      <td>(BLACK, MBE)</td>\n",
              "    </tr>\n",
              "    <tr>\n",
              "      <th>10</th>\n",
              "      <td>0.112676</td>\n",
              "      <td>(MBE, Brooklyn)</td>\n",
              "    </tr>\n",
              "    <tr>\n",
              "      <th>11</th>\n",
              "      <td>0.164085</td>\n",
              "      <td>(MBE, HISPANIC)</td>\n",
              "    </tr>\n",
              "    <tr>\n",
              "      <th>12</th>\n",
              "      <td>0.170423</td>\n",
              "      <td>(MBE, New York)</td>\n",
              "    </tr>\n",
              "    <tr>\n",
              "      <th>13</th>\n",
              "      <td>0.169014</td>\n",
              "      <td>(WBE, MBE)</td>\n",
              "    </tr>\n",
              "    <tr>\n",
              "      <th>14</th>\n",
              "      <td>0.118310</td>\n",
              "      <td>(NON-MINORITY, New York)</td>\n",
              "    </tr>\n",
              "    <tr>\n",
              "      <th>15</th>\n",
              "      <td>0.300000</td>\n",
              "      <td>(NON-MINORITY, WBE)</td>\n",
              "    </tr>\n",
              "    <tr>\n",
              "      <th>16</th>\n",
              "      <td>0.175352</td>\n",
              "      <td>(WBE, New York)</td>\n",
              "    </tr>\n",
              "    <tr>\n",
              "      <th>17</th>\n",
              "      <td>0.118310</td>\n",
              "      <td>(NON-MINORITY, WBE, New York)</td>\n",
              "    </tr>\n",
              "  </tbody>\n",
              "</table>\n",
              "</div>"
            ],
            "text/plain": [
              "     support                       itemsets\n",
              "0   0.202113                        (ASIAN)\n",
              "1   0.300704                        (BLACK)\n",
              "2   0.152113                     (Brooklyn)\n",
              "3   0.164085                     (HISPANIC)\n",
              "4   0.671127                          (MBE)\n",
              "5   0.300000                 (NON-MINORITY)\n",
              "6   0.295070                     (New York)\n",
              "7   0.477465                          (WBE)\n",
              "8   0.200000                   (ASIAN, MBE)\n",
              "9   0.300704                   (BLACK, MBE)\n",
              "10  0.112676                (MBE, Brooklyn)\n",
              "11  0.164085                (MBE, HISPANIC)\n",
              "12  0.170423                (MBE, New York)\n",
              "13  0.169014                     (WBE, MBE)\n",
              "14  0.118310       (NON-MINORITY, New York)\n",
              "15  0.300000            (NON-MINORITY, WBE)\n",
              "16  0.175352                (WBE, New York)\n",
              "17  0.118310  (NON-MINORITY, WBE, New York)"
            ]
          },
          "metadata": {
            "tags": []
          },
          "execution_count": 22
        }
      ]
    },
    {
      "cell_type": "code",
      "metadata": {
        "id": "BNhGvLKB_aFv",
        "colab_type": "code",
        "outputId": "9c96972e-ce31-4660-df6e-f2c0dd62bef8",
        "colab": {
          "base_uri": "https://localhost:8080/",
          "height": 142
        }
      },
      "source": [
        "# Frequent itemsets of length 2 with support of 0.2\n",
        "frequent_itemsets['length'] = frequent_itemsets['itemsets'].apply(lambda x: len(x))\n",
        "frequent_itemsets[ (frequent_itemsets['length'] >= 2) & (frequent_itemsets['support'] >= 0.2) ]"
      ],
      "execution_count": 0,
      "outputs": [
        {
          "output_type": "execute_result",
          "data": {
            "text/html": [
              "<div>\n",
              "<style scoped>\n",
              "    .dataframe tbody tr th:only-of-type {\n",
              "        vertical-align: middle;\n",
              "    }\n",
              "\n",
              "    .dataframe tbody tr th {\n",
              "        vertical-align: top;\n",
              "    }\n",
              "\n",
              "    .dataframe thead th {\n",
              "        text-align: right;\n",
              "    }\n",
              "</style>\n",
              "<table border=\"1\" class=\"dataframe\">\n",
              "  <thead>\n",
              "    <tr style=\"text-align: right;\">\n",
              "      <th></th>\n",
              "      <th>support</th>\n",
              "      <th>itemsets</th>\n",
              "      <th>length</th>\n",
              "    </tr>\n",
              "  </thead>\n",
              "  <tbody>\n",
              "    <tr>\n",
              "      <th>8</th>\n",
              "      <td>0.200000</td>\n",
              "      <td>(ASIAN, MBE)</td>\n",
              "      <td>2</td>\n",
              "    </tr>\n",
              "    <tr>\n",
              "      <th>9</th>\n",
              "      <td>0.300704</td>\n",
              "      <td>(BLACK, MBE)</td>\n",
              "      <td>2</td>\n",
              "    </tr>\n",
              "    <tr>\n",
              "      <th>15</th>\n",
              "      <td>0.300000</td>\n",
              "      <td>(NON-MINORITY, WBE)</td>\n",
              "      <td>2</td>\n",
              "    </tr>\n",
              "  </tbody>\n",
              "</table>\n",
              "</div>"
            ],
            "text/plain": [
              "     support             itemsets  length\n",
              "8   0.200000         (ASIAN, MBE)       2\n",
              "9   0.300704         (BLACK, MBE)       2\n",
              "15  0.300000  (NON-MINORITY, WBE)       2"
            ]
          },
          "metadata": {
            "tags": []
          },
          "execution_count": 23
        }
      ]
    },
    {
      "cell_type": "markdown",
      "metadata": {
        "id": "hZ1rG85O_aF0",
        "colab_type": "text"
      },
      "source": [
        "# FPGrowth [10 marks]"
      ]
    },
    {
      "cell_type": "code",
      "metadata": {
        "id": "qryRQ-F2_aF4",
        "colab_type": "code",
        "outputId": "cabb9099-dc83-46c6-e13c-88600fe7c816",
        "colab": {
          "base_uri": "https://localhost:8080/",
          "height": 34
        }
      },
      "source": [
        "# FPGrowth\n",
        "%timeit -n 100 -r 10 fp_itemsets = fpgrowth(df, min_support=minsup, use_colnames=True)"
      ],
      "execution_count": 0,
      "outputs": [
        {
          "output_type": "stream",
          "text": [
            "100 loops, best of 10: 15 ms per loop\n"
          ],
          "name": "stdout"
        }
      ]
    },
    {
      "cell_type": "code",
      "metadata": {
        "id": "GKO5O36hZ6TJ",
        "colab_type": "code",
        "outputId": "135c5315-b579-43f1-d08b-f18ac73ceb49",
        "colab": {
          "base_uri": "https://localhost:8080/",
          "height": 607
        }
      },
      "source": [
        "fp_itemsets"
      ],
      "execution_count": 0,
      "outputs": [
        {
          "output_type": "execute_result",
          "data": {
            "text/html": [
              "<div>\n",
              "<style scoped>\n",
              "    .dataframe tbody tr th:only-of-type {\n",
              "        vertical-align: middle;\n",
              "    }\n",
              "\n",
              "    .dataframe tbody tr th {\n",
              "        vertical-align: top;\n",
              "    }\n",
              "\n",
              "    .dataframe thead th {\n",
              "        text-align: right;\n",
              "    }\n",
              "</style>\n",
              "<table border=\"1\" class=\"dataframe\">\n",
              "  <thead>\n",
              "    <tr style=\"text-align: right;\">\n",
              "      <th></th>\n",
              "      <th>support</th>\n",
              "      <th>itemsets</th>\n",
              "    </tr>\n",
              "  </thead>\n",
              "  <tbody>\n",
              "    <tr>\n",
              "      <th>0</th>\n",
              "      <td>0.671127</td>\n",
              "      <td>(MBE)</td>\n",
              "    </tr>\n",
              "    <tr>\n",
              "      <th>1</th>\n",
              "      <td>0.477465</td>\n",
              "      <td>(WBE)</td>\n",
              "    </tr>\n",
              "    <tr>\n",
              "      <th>2</th>\n",
              "      <td>0.300704</td>\n",
              "      <td>(BLACK)</td>\n",
              "    </tr>\n",
              "    <tr>\n",
              "      <th>3</th>\n",
              "      <td>0.152113</td>\n",
              "      <td>(Brooklyn)</td>\n",
              "    </tr>\n",
              "    <tr>\n",
              "      <th>4</th>\n",
              "      <td>0.202113</td>\n",
              "      <td>(ASIAN)</td>\n",
              "    </tr>\n",
              "    <tr>\n",
              "      <th>5</th>\n",
              "      <td>0.295070</td>\n",
              "      <td>(New York)</td>\n",
              "    </tr>\n",
              "    <tr>\n",
              "      <th>6</th>\n",
              "      <td>0.164085</td>\n",
              "      <td>(HISPANIC)</td>\n",
              "    </tr>\n",
              "    <tr>\n",
              "      <th>7</th>\n",
              "      <td>0.300000</td>\n",
              "      <td>(NON-MINORITY)</td>\n",
              "    </tr>\n",
              "    <tr>\n",
              "      <th>8</th>\n",
              "      <td>0.169014</td>\n",
              "      <td>(WBE, MBE)</td>\n",
              "    </tr>\n",
              "    <tr>\n",
              "      <th>9</th>\n",
              "      <td>0.300704</td>\n",
              "      <td>(BLACK, MBE)</td>\n",
              "    </tr>\n",
              "    <tr>\n",
              "      <th>10</th>\n",
              "      <td>0.112676</td>\n",
              "      <td>(MBE, Brooklyn)</td>\n",
              "    </tr>\n",
              "    <tr>\n",
              "      <th>11</th>\n",
              "      <td>0.200000</td>\n",
              "      <td>(ASIAN, MBE)</td>\n",
              "    </tr>\n",
              "    <tr>\n",
              "      <th>12</th>\n",
              "      <td>0.175352</td>\n",
              "      <td>(WBE, New York)</td>\n",
              "    </tr>\n",
              "    <tr>\n",
              "      <th>13</th>\n",
              "      <td>0.170423</td>\n",
              "      <td>(MBE, New York)</td>\n",
              "    </tr>\n",
              "    <tr>\n",
              "      <th>14</th>\n",
              "      <td>0.118310</td>\n",
              "      <td>(NON-MINORITY, New York)</td>\n",
              "    </tr>\n",
              "    <tr>\n",
              "      <th>15</th>\n",
              "      <td>0.118310</td>\n",
              "      <td>(NON-MINORITY, WBE, New York)</td>\n",
              "    </tr>\n",
              "    <tr>\n",
              "      <th>16</th>\n",
              "      <td>0.164085</td>\n",
              "      <td>(MBE, HISPANIC)</td>\n",
              "    </tr>\n",
              "    <tr>\n",
              "      <th>17</th>\n",
              "      <td>0.300000</td>\n",
              "      <td>(NON-MINORITY, WBE)</td>\n",
              "    </tr>\n",
              "  </tbody>\n",
              "</table>\n",
              "</div>"
            ],
            "text/plain": [
              "     support                       itemsets\n",
              "0   0.671127                          (MBE)\n",
              "1   0.477465                          (WBE)\n",
              "2   0.300704                        (BLACK)\n",
              "3   0.152113                     (Brooklyn)\n",
              "4   0.202113                        (ASIAN)\n",
              "5   0.295070                     (New York)\n",
              "6   0.164085                     (HISPANIC)\n",
              "7   0.300000                 (NON-MINORITY)\n",
              "8   0.169014                     (WBE, MBE)\n",
              "9   0.300704                   (BLACK, MBE)\n",
              "10  0.112676                (MBE, Brooklyn)\n",
              "11  0.200000                   (ASIAN, MBE)\n",
              "12  0.175352                (WBE, New York)\n",
              "13  0.170423                (MBE, New York)\n",
              "14  0.118310       (NON-MINORITY, New York)\n",
              "15  0.118310  (NON-MINORITY, WBE, New York)\n",
              "16  0.164085                (MBE, HISPANIC)\n",
              "17  0.300000            (NON-MINORITY, WBE)"
            ]
          },
          "metadata": {
            "tags": []
          },
          "execution_count": 18
        }
      ]
    },
    {
      "cell_type": "code",
      "metadata": {
        "id": "Yz2J1mag_aGB",
        "colab_type": "code",
        "outputId": "9aa1064d-dd49-4e42-902b-d1eff9d89850",
        "colab": {
          "base_uri": "https://localhost:8080/",
          "height": 142
        }
      },
      "source": [
        "# Frequent itemsets of length 2 with support of 0.2\n",
        "fp_itemsets['length'] = frequent_itemsets['itemsets'].apply(lambda x: len(x))\n",
        "fp_itemsets[ (frequent_itemsets['length'] >= 2) & (frequent_itemsets['support'] >= 0.2) ]"
      ],
      "execution_count": 0,
      "outputs": [
        {
          "output_type": "execute_result",
          "data": {
            "text/html": [
              "<div>\n",
              "<style scoped>\n",
              "    .dataframe tbody tr th:only-of-type {\n",
              "        vertical-align: middle;\n",
              "    }\n",
              "\n",
              "    .dataframe tbody tr th {\n",
              "        vertical-align: top;\n",
              "    }\n",
              "\n",
              "    .dataframe thead th {\n",
              "        text-align: right;\n",
              "    }\n",
              "</style>\n",
              "<table border=\"1\" class=\"dataframe\">\n",
              "  <thead>\n",
              "    <tr style=\"text-align: right;\">\n",
              "      <th></th>\n",
              "      <th>support</th>\n",
              "      <th>itemsets</th>\n",
              "      <th>length</th>\n",
              "    </tr>\n",
              "  </thead>\n",
              "  <tbody>\n",
              "    <tr>\n",
              "      <th>8</th>\n",
              "      <td>0.169014</td>\n",
              "      <td>(WBE, MBE)</td>\n",
              "      <td>2</td>\n",
              "    </tr>\n",
              "    <tr>\n",
              "      <th>9</th>\n",
              "      <td>0.300704</td>\n",
              "      <td>(BLACK, MBE)</td>\n",
              "      <td>2</td>\n",
              "    </tr>\n",
              "    <tr>\n",
              "      <th>15</th>\n",
              "      <td>0.118310</td>\n",
              "      <td>(NON-MINORITY, WBE, New York)</td>\n",
              "      <td>2</td>\n",
              "    </tr>\n",
              "  </tbody>\n",
              "</table>\n",
              "</div>"
            ],
            "text/plain": [
              "     support                       itemsets  length\n",
              "8   0.169014                     (WBE, MBE)       2\n",
              "9   0.300704                   (BLACK, MBE)       2\n",
              "15  0.118310  (NON-MINORITY, WBE, New York)       2"
            ]
          },
          "metadata": {
            "tags": []
          },
          "execution_count": 19
        }
      ]
    },
    {
      "cell_type": "markdown",
      "metadata": {
        "id": "KG2pZr9a_aGJ",
        "colab_type": "text"
      },
      "source": [
        "# Answer to the Questions [5 marks]"
      ]
    },
    {
      "cell_type": "markdown",
      "metadata": {
        "id": "P9OQQSUQav9j",
        "colab_type": "text"
      },
      "source": [
        "Answer 1: \n",
        "\n",
        "* Even though theoreticall the FP-growth algorithm should perform magnitutdes faster than the apriori algorithm, the results show that the FP-growth algorithm is performing slightly slower than it.\n",
        "* The itemsets of the apriori algorithm are sorted from 1 item, to 2 items, to 3 items, which represents how the apriori algorithm builds it's itemset."
      ]
    },
    {
      "cell_type": "code",
      "metadata": {
        "id": "HO8CNgiXeYmv",
        "colab_type": "code",
        "outputId": "0148dc4f-dbe7-4f20-ab39-7f44de8b7a0c",
        "colab": {
          "base_uri": "https://localhost:8080/",
          "height": 85
        }
      },
      "source": [
        "unique = set(x for l in data for x in l)\n",
        "\n",
        "sum = 0\n",
        "for i in range(len(data)):\n",
        "    sum += len(data[i])\n",
        "\n",
        "mean_len = sum//len(data)\n",
        "print(\"Number of Transactions: \" + str(len(data)))\n",
        "print(\"Average number of items in a transaction: \" +str(mean_len))\n",
        "print(\"Distinct items in the dataset: \"+ str(len(unique)))\n",
        "print(\"Required Transaction presence to be frequent: \" +str(minsup*len(data)))\n"
      ],
      "execution_count": 0,
      "outputs": [
        {
          "output_type": "stream",
          "text": [
            "Number of Transactions: 1420\n",
            "Average number of items in a transaction: 4\n",
            "Distinct items in the dataset: 721\n",
            "Required Transaction presence to be frequent: 142.0\n"
          ],
          "name": "stdout"
        }
      ]
    },
    {
      "cell_type": "markdown",
      "metadata": {
        "id": "g_KpmWLddx3U",
        "colab_type": "text"
      },
      "source": [
        "Answer 2: There are over 700 unique items in the data set with 1400 transactions having took place. The average number of items in a transaction was 4 and one item needed to appear in atleast 142 transactions in order to be frequent. \n",
        "\n",
        "With this data, we can see that the best case scenario for the number of frequent itemsets would be ~40 itemsets. which is still very less alongside our ~18 itemsets.\n",
        "\n",
        "The reason for this is due to the small number of items in a transaction and some items appearing much much more frequently than others (e.g MBE). If there were more items in a transaction then we would see a rise in the number of frequent itemsets"
      ]
    }
  ]
}